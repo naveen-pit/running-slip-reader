{
 "cells": [
  {
   "cell_type": "code",
   "execution_count": 1,
   "metadata": {},
   "outputs": [
    {
     "name": "stdout",
     "output_type": "stream",
     "text": [
      "13:12 cose 2 ON Hl dull 73%\n",
      "\n",
      "< Running Co:\n",
      "\n",
      "Overview Stats Laps Charts Gear\n",
      "\n",
      "Slower \"MEE Faster\n",
      "\n",
      "ee 3 Augi11@05:40 © vy ra\n",
      "\n",
      "Bangkok Yai - Easy Run a\n",
      "\n",
      "How did it go?\n",
      "\n",
      "21.20:\n",
      "\n",
      "Distance\n",
      "150 bpm ® 5:16 skm ©\n",
      "Avg Heart Rate Avg Pace\n",
      "1:51:47 1,276\n",
      "Total Time Total Calories\n",
      "\n",
      "Extracted Distance: Distance\n",
      "Extracted Distance: 150 bpm ® 5:16 skm ©\n"
     ]
    }
   ],
   "source": [
    "from PIL import Image\n",
    "import pytesseract\n",
    "\n",
    "# Load the image from the file\n",
    "image_path = 'images/garmin.jpg'  # Replace with your screenshot path\n",
    "img = Image.open(image_path)\n",
    "\n",
    "# Use pytesseract to do OCR on the image\n",
    "extracted_text = pytesseract.image_to_string(img)\n",
    "\n",
    "# Print the extracted text to see what was recognized\n",
    "print(extracted_text)\n",
    "\n",
    "# You can then filter out the distance using basic string operations\n",
    "# Assuming the distance is in the format 'Distance: 5.0 km'\n",
    "for line in extracted_text.splitlines():\n",
    "    if 'km' in line.lower() or 'distance' in line.lower():\n",
    "        print(f'Extracted Distance: {line}')\n"
   ]
  },
  {
   "cell_type": "code",
   "execution_count": null,
   "metadata": {},
   "outputs": [],
   "source": []
  },
  {
   "cell_type": "code",
   "execution_count": 2,
   "metadata": {},
   "outputs": [
    {
     "data": {
      "text/plain": [
       "'13:12 cose 2 ON Hl dull 73%\\n\\n< Running Co:\\n\\nOverview Stats Laps Charts Gear\\n\\nSlower \"MEE Faster\\n\\nee 3 Augi11@05:40 © vy ra\\n\\nBangkok Yai - Easy Run a\\n\\nHow did it go?\\n\\n21.20:\\n\\nDistance\\n150 bpm ® 5:16 skm ©\\nAvg Heart Rate Avg Pace\\n1:51:47 1,276\\nTotal Time Total Calories\\n'"
      ]
     },
     "execution_count": 2,
     "metadata": {},
     "output_type": "execute_result"
    }
   ],
   "source": [
    "extracted_text"
   ]
  },
  {
   "cell_type": "code",
   "execution_count": 3,
   "metadata": {},
   "outputs": [
    {
     "data": {
      "text/plain": [
       "'13:12 (iy Qe. ON. dull 73% em\\n\\n<€ Running Ct\\n\\nOverview Stats Laps Charts Gear\\n\\nSlower Faster\\n\\ne 3 Aug11@05:40 © Xe ee\\nBangkok Yai - Easy Run #\\n\\nHow did it go?\\n\\n21.2010\\n\\nDistance\\n150 bpm @ 5:16 km ©\\nAvg Heart Rate Avg Pace\\n1:51:47 1,276\\nTotal Time Total Calories\\n\\nII O <\\n'"
      ]
     },
     "execution_count": 3,
     "metadata": {},
     "output_type": "execute_result"
    }
   ],
   "source": [
    "import cv2\n",
    "import numpy as np\n",
    "\n",
    "# Convert the image to grayscale\n",
    "img = cv2.imread(image_path, cv2.IMREAD_GRAYSCALE)\n",
    "\n",
    "# Apply thresholding\n",
    "_, img = cv2.threshold(img, 128, 255, cv2.THRESH_BINARY)\n",
    "\n",
    "# Save the processed image\n",
    "processed_image_path = 'processed_image.png'\n",
    "cv2.imwrite(processed_image_path, img)\n",
    "\n",
    "# Use pytesseract to do OCR on the processed image\n",
    "extracted_text = pytesseract.image_to_string(Image.open(processed_image_path))\n",
    "\n",
    "# Continue with extracting the distance as shown above\n",
    "extracted_text"
   ]
  },
  {
   "cell_type": "code",
   "execution_count": null,
   "metadata": {},
   "outputs": [],
   "source": []
  },
  {
   "cell_type": "code",
   "execution_count": 7,
   "metadata": {},
   "outputs": [
    {
     "data": {
      "text/plain": [
       "(None,\n",
       " 'B12 dc 99 « OAs. Heal 73%e\\n\\n€ Running a\\n\\nOverview Stats Laps Charts Gear\\n\\nSlower a Faster\\n\\n+ 3 Augii@o0540 @© ty ct\\nBangkok Yai - Easy Run ,\\nHow did it go? |\\n\\n21.20 in\\n\\nDistance\\n\\n150 bpm & 5:16 sm &\\nAvg Heart Rate Avg Pace\\n1:51:47 1,276\\n\\nTotal Time Total Calories\\n')"
      ]
     },
     "execution_count": 7,
     "metadata": {},
     "output_type": "execute_result"
    }
   ],
   "source": [
    "from PIL import Image\n",
    "import pytesseract\n",
    "import cv2\n",
    "\n",
    "# Load the image from the file\n",
    "image_path = './images/garmin.jpg'\n",
    "img = cv2.imread(image_path)\n",
    "\n",
    "# Convert to grayscale\n",
    "gray = cv2.cvtColor(img, cv2.COLOR_BGR2GRAY)\n",
    "\n",
    "# Apply thresholding to make the text more distinct\n",
    "_, thresh = cv2.threshold(gray, 150, 255, cv2.THRESH_BINARY_INV)\n",
    "\n",
    "# Save the processed image for reference\n",
    "processed_image_path = './images/processed_image.png'\n",
    "cv2.imwrite(processed_image_path, thresh)\n",
    "\n",
    "# Use pytesseract to do OCR on the processed image\n",
    "extracted_text = pytesseract.image_to_string(Image.open(processed_image_path))\n",
    "\n",
    "# Filter out the distance value\n",
    "distance = None\n",
    "for line in extracted_text.splitlines():\n",
    "    if 'km' in line.lower():\n",
    "        distance = line.strip()\n",
    "        break\n",
    "\n",
    "distance, extracted_text\n"
   ]
  },
  {
   "cell_type": "code",
   "execution_count": 10,
   "metadata": {},
   "outputs": [
    {
     "name": "stdout",
     "output_type": "stream",
     "text": [
      "['13:12 dé oes. ON tBu 73%', '', '< Running SC:', '', 'Overview Stats Laps Charts Gear', '', 'Slower MEE! Faster', '', 'ee 3 Augi11@05:40 © vr ey', 'Bangkok Yai - Easy Run a', '', 'How did it go?', '', '21.20:', '', 'Distance', '150 bpm ® 5:16 skm ®', 'Avg Heart Rate Avg Pace', '1:51:47 1,276', 'Total Time Total Calories', '', 'II O <', '']\n",
      "The extracted distance is: 150516.0 km\n"
     ]
    }
   ],
   "source": [
    "import cv2\n",
    "import pytesseract\n",
    "from PIL import Image\n",
    "\n",
    "def extract_distance(image_path):\n",
    "    # Read the image using OpenCV\n",
    "    img = cv2.imread(image_path)\n",
    "    \n",
    "    # Convert the image to grayscale\n",
    "    gray = cv2.cvtColor(img, cv2.COLOR_BGR2GRAY)\n",
    "    \n",
    "    # Use pytesseract to do OCR on the image\n",
    "    text = pytesseract.image_to_string(Image.fromarray(gray))\n",
    "    \n",
    "    # Split the text into lines\n",
    "    lines = text.split('\\n')\n",
    "    print(lines)\n",
    "    # Look for the line containing 'km' (which should be the distance)\n",
    "    for line in lines:\n",
    "        if 'km' in line.lower():\n",
    "            # Extract the numeric part\n",
    "            distance = ''.join(filter(lambda x: x.isdigit() or x == '.', line))\n",
    "            return float(distance)\n",
    "    \n",
    "    # If we couldn't find the distance, return None\n",
    "    return None\n",
    "\n",
    "# Use the function\n",
    "image_path = './images/garmin.jpg'\n",
    "distance = extract_distance(image_path)\n",
    "\n",
    "if distance:\n",
    "    print(f\"The extracted distance is: {distance} km\")\n",
    "else:\n",
    "    print(\"Could not extract distance from the image\")"
   ]
  }
 ],
 "metadata": {
  "kernelspec": {
   "display_name": "running-slip-reader-RFE_Jy1P-py3.11",
   "language": "python",
   "name": "python3"
  },
  "language_info": {
   "codemirror_mode": {
    "name": "ipython",
    "version": 3
   },
   "file_extension": ".py",
   "mimetype": "text/x-python",
   "name": "python",
   "nbconvert_exporter": "python",
   "pygments_lexer": "ipython3",
   "version": "3.11.6"
  }
 },
 "nbformat": 4,
 "nbformat_minor": 2
}
