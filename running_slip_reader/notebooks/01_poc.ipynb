{
 "cells": [
  {
   "cell_type": "code",
   "execution_count": 23,
   "metadata": {},
   "outputs": [
    {
     "data": {
      "text/plain": [
       "['images/15_31 30124013_10213858372666214_6084300428709724160_n.jpg',\n",
       " 'images/5_7 46741305_10215499670297629_8916867902003478528_n.jpg',\n",
       " 'images/11_0 83630985_10218853940432286_7213858926134034432_n.jpg',\n",
       " 'images/NA 453632882_10229805741060457_7489649556786205200_n.jpg',\n",
       " 'images/21_5 60337780_10216655216265556_1011334716533506048_n.jpg',\n",
       " 'images/18_54 405741160_10228415558266756_3898063265316050459_n.jpg',\n",
       " 'images/30_0 48362178_10215595765219942_1131691923644350464_n.jpg',\n",
       " 'images/5_33 106138130_10220534131076002_8014245700276487117_n.jpg',\n",
       " 'images/10_0 74620824_10217973801189355_6879656113399136256_n.jpg',\n",
       " 'images/15_01 22712585_10213751604877086_1112620062853664594_o.jpg',\n",
       " 'images/10_0 69587723_10217531521412637_6714417760765476864_n.jpg',\n",
       " 'images/12_1 50458285_10215922184780227_6800444615674560512_n.jpg',\n",
       " 'images/NA 122906292_10221425212992493_986834629919058392_n.jpg',\n",
       " 'images/10_0 66510121_10217119054581224_47845845483126784_n.jpg',\n",
       " 'images/14_8 59022840_10216604773044507_8793896657537204224_n.jpg',\n",
       " 'images/NA 131361108_10221759590951733_5467226050244403207_n.jpg',\n",
       " 'images/15_0 30581359_10213886192841701_8009018184789131264_n.jpg',\n",
       " 'images/4_9 45139584_10215343175905367_4043054991504572416_n.jpg',\n",
       " 'images/21_20 garmin.jpg',\n",
       " 'images/10_0 72172451_10217867164323500_8896631446328836096_n.jpg',\n",
       " 'images/15_03 37236213_10214581835712338_3936561045472018432_n.jpg',\n",
       " 'images/24_0 309862865_10225625787924241_5449641666998023137_n.jpg',\n",
       " 'images/15_18 449480091_10229550313474927_827735937888080141_n.jpg',\n",
       " 'images/NA 417492132_10229427447683359_5842256330999256702_n.jpg',\n",
       " 'images/10_0 48424247_10215721330438994_7346735872718405632_n.jpg',\n",
       " 'images/5_01 72952698_10217926693411690_6619445236303134720_n.jpg',\n",
       " 'images/10_01 37888953_10214661790471157_7517559121650909184_n.jpg',\n",
       " 'images/10_05 36527004_10214484470958280_7471005498683162624_n.jpg']"
      ]
     },
     "execution_count": 23,
     "metadata": {},
     "output_type": "execute_result"
    }
   ],
   "source": [
    "from glob import glob\n",
    "\n",
    "image_path_list = glob(\"images/*\")\n",
    "image_path_list"
   ]
  },
  {
   "cell_type": "code",
   "execution_count": 3,
   "metadata": {},
   "outputs": [],
   "source": [
    "def get_distance_from_path(image_path:str):\n",
    "    image_file_name = image_path.split(\"/\")[1]\n",
    "    distance = image_file_name.split(\" \")[0].replace(\"_\",\".\")\n",
    "    if distance == \"NA\":\n",
    "        return -1\n",
    "    else:\n",
    "        return float(distance)\n",
    "\n"
   ]
  },
  {
   "cell_type": "code",
   "execution_count": 4,
   "metadata": {},
   "outputs": [
    {
     "name": "stdout",
     "output_type": "stream",
     "text": [
      "12.5\n",
      "12.5\n",
      "15.31\n"
     ]
    }
   ],
   "source": [
    "import re\n",
    "def get_number_before_km(text):\n",
    "    pattern = r\"(\\d+\\.?\\d*)\\s*km\"\n",
    "\n",
    "    match = re.search(pattern, text)\n",
    "    if match:\n",
    "        number_before_km = match.group(1)\n",
    "        return number_before_km\n",
    "    return \"\"\n",
    "\n",
    "text = \"The distance is a 12.5 km.\"\n",
    "print(get_number_before_km(text))\n",
    "text = \"The distance is a12.5 km.\"\n",
    "print(get_number_before_km(text))\n",
    "print(get_number_before_km(\"15.31 km\"))"
   ]
  },
  {
   "cell_type": "code",
   "execution_count": 5,
   "metadata": {},
   "outputs": [
    {
     "data": {
      "text/plain": [
       "'15.31'"
      ]
     },
     "execution_count": 5,
     "metadata": {},
     "output_type": "execute_result"
    }
   ],
   "source": [
    "get_number_before_km(\" 15.31 km\")"
   ]
  },
  {
   "cell_type": "code",
   "execution_count": null,
   "metadata": {},
   "outputs": [],
   "source": []
  },
  {
   "cell_type": "markdown",
   "metadata": {},
   "source": [
    "# Pytesseract"
   ]
  },
  {
   "cell_type": "code",
   "execution_count": 29,
   "metadata": {},
   "outputs": [],
   "source": [
    "from PIL import Image\n",
    "import pytesseract\n",
    "\n",
    "# Load the image from the file\n",
    "def get_distance_pytesseract(image_path:str)->float:\n",
    "\n",
    "    # Use pytesseract to do OCR on the image\n",
    "    extracted_text = pytesseract.image_to_string(image_path)\n",
    "\n",
    "    distance_list= []\n",
    "    # You can then filter out the distance using basic string operations\n",
    "    # Assuming the distance is in the format 'Distance: 5.0 km'\n",
    "    for line in extracted_text.splitlines():\n",
    "        text = line.strip().lower()\n",
    "        text = text.replace(\"/km\",\"\")\n",
    "        text = text.replace(\"km/\",\"\")\n",
    "        # if contain only km, the distance might be in previous text.\n",
    "        if \"km\" in text:\n",
    "            distance = get_number_before_km(text)\n",
    "            try:\n",
    "                distance = float(distance)\n",
    "                distance_list.append(distance)\n",
    "            except:\n",
    "                print(text)\n",
    "                print(\"not a float\")\n",
    "    if len(distance_list)==1:\n",
    "        return distance_list[0]\n",
    "    return -1"
   ]
  },
  {
   "cell_type": "code",
   "execution_count": 28,
   "metadata": {},
   "outputs": [
    {
     "name": "stdout",
     "output_type": "stream",
     "text": [
      "images/15_31 30124013_10213858372666214_6084300428709724160_n.jpg\n",
      "15.31\n",
      "-1\n",
      "============\n",
      "images/5_7 46741305_10215499670297629_8916867902003478528_n.jpg\n",
      "5.7\n",
      "-1\n",
      "============\n",
      "images/11_0 83630985_10218853940432286_7213858926134034432_n.jpg\n",
      "11.0\n",
      "-1\n",
      "============\n",
      "images/21_5 60337780_10216655216265556_1011334716533506048_n.jpg\n",
      "21.5\n",
      "-1\n",
      "============\n",
      "images/18_54 405741160_10228415558266756_3898063265316050459_n.jpg\n",
      "18.54\n",
      "-1\n",
      "============\n",
      "images/30_0 48362178_10215595765219942_1131691923644350464_n.jpg\n",
      "30.0\n",
      "-1\n",
      "============\n",
      "images/5_33 106138130_10220534131076002_8014245700276487117_n.jpg\n",
      "5.33\n",
      "-1\n",
      "============\n",
      "images/10_0 74620824_10217973801189355_6879656113399136256_n.jpg\n",
      "10.0\n",
      "-1\n",
      "============\n",
      "images/15_01 22712585_10213751604877086_1112620062853664594_o.jpg\n",
      "15.01\n",
      "-1\n",
      "============\n",
      "images/10_0 69587723_10217531521412637_6714417760765476864_n.jpg\n",
      "10.0\n",
      "-1\n",
      "============\n",
      "images/12_1 50458285_10215922184780227_6800444615674560512_n.jpg\n",
      "12.1\n",
      "-1\n",
      "============\n",
      "images/NA 122906292_10221425212992493_986834629919058392_n.jpg\n",
      "-1\n",
      "12.16\n",
      "============\n",
      "images/10_0 66510121_10217119054581224_47845845483126784_n.jpg\n",
      "10.0\n",
      "-1\n",
      "============\n",
      "images/14_8 59022840_10216604773044507_8793896657537204224_n.jpg\n",
      "14.8\n",
      "-1\n",
      "============\n",
      "images/15_0 30581359_10213886192841701_8009018184789131264_n.jpg\n",
      "15.0\n",
      "-1\n",
      "============\n",
      "images/4_9 45139584_10215343175905367_4043054991504572416_n.jpg\n",
      "4.9\n",
      "-1\n",
      "============\n",
      "150 bpm ® 5:16 skm ©\n",
      "not a float\n",
      "images/21_20 garmin.jpg\n",
      "21.2\n",
      "-1\n",
      "============\n",
      "images/10_0 72172451_10217867164323500_8896631446328836096_n.jpg\n",
      "10.0\n",
      "-1\n",
      "============\n",
      "images/15_03 37236213_10214581835712338_3936561045472018432_n.jpg\n",
      "15.03\n",
      "-1\n",
      "============\n",
      "images/15_18 449480091_10229550313474927_827735937888080141_n.jpg\n",
      "15.18\n",
      "-1\n",
      "============\n",
      "images/10_0 48424247_10215721330438994_7346735872718405632_n.jpg\n",
      "10.0\n",
      "-1\n",
      "============\n",
      "images/5_01 72952698_10217926693411690_6619445236303134720_n.jpg\n",
      "5.01\n",
      "-1\n",
      "============\n",
      "images/10_05 36527004_10214484470958280_7471005498683162624_n.jpg\n",
      "10.05\n",
      "-1\n",
      "============\n",
      "score = 5/28\n"
     ]
    }
   ],
   "source": [
    "incorrect_count = 0\n",
    "for image_path in image_path_list:\n",
    "    distance = get_distance_pytesseract(image_path)\n",
    "    target = get_distance_from_path(image_path)\n",
    "\n",
    "    if distance != target:\n",
    "        incorrect_count+=1\n",
    "        print(image_path)\n",
    "        print(target)\n",
    "        print(distance)\n",
    "        print(\"============\")\n",
    "\n",
    "print(f\"score = {len(image_path_list)-incorrect_count}/{len(image_path_list)}\")\n",
    "\n"
   ]
  },
  {
   "cell_type": "markdown",
   "metadata": {},
   "source": [
    "# Cloud Vision API"
   ]
  },
  {
   "cell_type": "code",
   "execution_count": null,
   "metadata": {},
   "outputs": [],
   "source": [
    "import base64\n",
    "import json\n",
    "import os\n",
    "\n",
    "\n",
    "import functions_framework\n",
    "\n",
    "from google.cloud import vision\n",
    "\n",
    "\n",
    "vision_client = vision.ImageAnnotatorClient()\n",
    "\n",
    "\n",
    "path = \"images/garmin.jpg\"\n",
    "import io\n",
    "with io.open(path, 'rb') as image_file:\n",
    "        content = image_file.read()\n",
    "\n",
    "image = vision.Image(content=content)\n",
    "text_detection_response = vision_client.text_detection(image=image)"
   ]
  },
  {
   "cell_type": "markdown",
   "metadata": {},
   "source": [
    "# EasyOCR"
   ]
  },
  {
   "cell_type": "code",
   "execution_count": 33,
   "metadata": {},
   "outputs": [
    {
     "name": "stderr",
     "output_type": "stream",
     "text": [
      "/Users/naveen/Library/Caches/pypoetry/virtualenvs/running-slip-reader-RFE_Jy1P-py3.11/lib/python3.11/site-packages/easyocr/detection.py:85: FutureWarning: You are using `torch.load` with `weights_only=False` (the current default value), which uses the default pickle module implicitly. It is possible to construct malicious pickle data which will execute arbitrary code during unpickling (See https://github.com/pytorch/pytorch/blob/main/SECURITY.md#untrusted-models for more details). In a future release, the default value for `weights_only` will be flipped to `True`. This limits the functions that could be executed during unpickling. Arbitrary objects will no longer be allowed to be loaded via this mode unless they are explicitly allowlisted by the user via `torch.serialization.add_safe_globals`. We recommend you start setting `weights_only=True` for any use case where you don't have full control of the loaded file. Please open an issue on GitHub for any issues related to this experimental feature.\n",
      "  net.load_state_dict(copyStateDict(torch.load(trained_model, map_location=device)))\n",
      "/Users/naveen/Library/Caches/pypoetry/virtualenvs/running-slip-reader-RFE_Jy1P-py3.11/lib/python3.11/site-packages/easyocr/recognition.py:182: FutureWarning: You are using `torch.load` with `weights_only=False` (the current default value), which uses the default pickle module implicitly. It is possible to construct malicious pickle data which will execute arbitrary code during unpickling (See https://github.com/pytorch/pytorch/blob/main/SECURITY.md#untrusted-models for more details). In a future release, the default value for `weights_only` will be flipped to `True`. This limits the functions that could be executed during unpickling. Arbitrary objects will no longer be allowed to be loaded via this mode unless they are explicitly allowlisted by the user via `torch.serialization.add_safe_globals`. We recommend you start setting `weights_only=True` for any use case where you don't have full control of the loaded file. Please open an issue on GitHub for any issues related to this experimental feature.\n",
      "  model.load_state_dict(torch.load(model_path, map_location=device))\n"
     ]
    }
   ],
   "source": [
    "# Read text from an image\n",
    "import easyocr\n",
    "# Create an OCR reader object\n",
    "reader = easyocr.Reader([\"en\"])\n",
    "def get_distance_easyocr(image_path:str):\n",
    "    result = reader.readtext(image_path)\n",
    "    distance_list = []\n",
    "    prev_text = \"\"\n",
    "    for detection in result:\n",
    "        text:str = detection[1]\n",
    "        text = text.strip().lower()\n",
    "        text = text.replace(\"/km\",\"\")\n",
    "        text = text.replace(\"km/\",\"\")\n",
    "        # if contain only km, the distance might be in previous text.\n",
    "        if text == \"km\":\n",
    "            text = prev_text + text\n",
    "        \n",
    "        if \"km\" in text:\n",
    "            distance = get_number_before_km(text)\n",
    "            try:\n",
    "                distance = float(distance)\n",
    "                distance_list.append(distance)\n",
    "            except:\n",
    "                print(text)\n",
    "                print(\"not a float\")\n",
    "        prev_text = text\n",
    "    if len(distance_list)==1:\n",
    "        return distance_list[0]\n",
    "    return -1"
   ]
  },
  {
   "cell_type": "code",
   "execution_count": 34,
   "metadata": {},
   "outputs": [
    {
     "name": "stdout",
     "output_type": "stream",
     "text": [
      "images/11_0 83630985_10218853940432286_7213858926134034432_n.jpg\n",
      "11.0\n",
      "0.0\n",
      "============\n",
      "images/5_33 106138130_10220534131076002_8014245700276487117_n.jpg\n",
      "5.33\n",
      "-1\n",
      "============\n",
      "images/15_01 22712585_10213751604877086_1112620062853664594_o.jpg\n",
      "15.01\n",
      "1.0\n",
      "============\n",
      "images/12_1 50458285_10215922184780227_6800444615674560512_n.jpg\n",
      "12.1\n",
      "4.0\n",
      "============\n",
      "images/15_18 449480091_10229550313474927_827735937888080141_n.jpg\n",
      "15.18\n",
      "15.48\n",
      "============\n",
      "score = 23/28\n"
     ]
    }
   ],
   "source": [
    "incorrect_count = 0\n",
    "for image_path in image_path_list:\n",
    "    distance = get_distance_easyocr(image_path)\n",
    "    target = get_distance_from_path(image_path)\n",
    "\n",
    "    if distance != target:\n",
    "        incorrect_count+=1\n",
    "        print(image_path)\n",
    "        print(target)\n",
    "        print(distance)\n",
    "        print(\"============\")\n",
    "\n",
    "print(f\"score = {len(image_path_list)-incorrect_count}/{len(image_path_list)}\")\n",
    "\n"
   ]
  },
  {
   "cell_type": "code",
   "execution_count": null,
   "metadata": {},
   "outputs": [],
   "source": []
  }
 ],
 "metadata": {
  "kernelspec": {
   "display_name": "running-slip-reader-RFE_Jy1P-py3.11",
   "language": "python",
   "name": "python3"
  },
  "language_info": {
   "codemirror_mode": {
    "name": "ipython",
    "version": 3
   },
   "file_extension": ".py",
   "mimetype": "text/x-python",
   "name": "python",
   "nbconvert_exporter": "python",
   "pygments_lexer": "ipython3",
   "version": "3.11.6"
  }
 },
 "nbformat": 4,
 "nbformat_minor": 2
}
